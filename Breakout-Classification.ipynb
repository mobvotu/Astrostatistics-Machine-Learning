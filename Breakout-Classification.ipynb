
{
 "metadata": {
  "name": "",
  "signature": "sha256:024628f96f6dce5ffc22f9a799cac725908533b1cce78b87a9ac904e65e4bca5"
 },
 "nbformat": 3,
 "nbformat_minor": 0,
 "worksheets": [
  {
   "cells": [
    {
     "cell_type": "markdown",
     "metadata": {},
     "source": [
      "# Exploring Supervised Machine Learning: Classification"
     ]
    },
    {
     "cell_type": "markdown",
     "metadata": {},
     "source": [
      "This notebook explores a classification task on astronomical data with Scikit-Learn.\n",
      "Much of the practice of machine learning relies on searching through documentation to learn (or remind yourself) of how things are done. Recall that in IPython, you can see the documentation of any function using the ``?`` character. For example:"
     ]
    },
    {
     "cell_type": "code",
     "collapsed": false,
     "input": [
      "import numpy as np\n",
      "np.linspace?"
     ],
     "language": "python",
     "metadata": {},
     "outputs": []
    },
    {
     "cell_type": "markdown",
     "metadata": {},
     "source": [
      "In addition, Google is your friend. Do you want to know how to import a Gaussian mixture model in scikit-learn? Search for \"scikit-learn Gaussian Mixture\" and go from there."
     ]
    },
    {
     "cell_type": "markdown",
     "metadata": {},
     "source": [
      "In this notebook, we'll look at a *stellar photometry* dataset for classification, where the labels distinguish between variable and non-variable stars (based on multiple observations for the training set).\n",
      "\n",
      "(see also the [Regression breakout](Breakout-Regression.ipynb))"
     ]
    },
    {
     "cell_type": "markdown",
     "metadata": {},
     "source": [
      "We'll start with the normal notebook imports & preliminaries:"
     ]
    },
    {
     "cell_type": "code",
     "collapsed": false,
     "input": [
      "%matplotlib inline\n",
      "import matplotlib as mpl\n",
      "import matplotlib.pyplot as plt\n",
      "import numpy as np\n",
      "\n",
      "# set matplotlib figure style\n",
      "mpl.style.use('ggplot') # only works in matplotlib 1.4+\n",
      "mpl.rc('figure', figsize=(8, 6))"
     ],
     "language": "python",
     "metadata": {},
     "outputs": []
    },
    {
     "cell_type": "markdown",
     "metadata": {},
     "source": [
      "## The Data: Stellar Photometry\n",
      "\n",
      "The stellar photometry data is a combination of photometry for RR Lyrae and main sequence stars from SDSS Stripe 82, with RR Lyrae flagged based on their temporal variation."
     ]
    },
    {
     "cell_type": "code",
     "collapsed": false,
     "input": [
      "from astroML.datasets import fetch_rrlyrae_combined\n",
      "from sklearn.cross_validation import train_test_split\n",
      "\n",
      "X, y = fetch_rrlyrae_combined()"
     ],
     "language": "python",
     "metadata": {},
     "outputs": []
    },
    {
     "cell_type": "markdown",
     "metadata": {},
     "source": [
      "The data consist of 93141 objects, each with four features representing [u-g, g-r, r-i, i-z] colors"
     ]
    },
    {
     "cell_type": "code",
     "collapsed": false,
     "input": [
      "print(X.shape)\n",
      "print(X[:10])"
     ],
     "language": "python",
     "metadata": {},
     "outputs": []
    },
    {
     "cell_type": "markdown",
     "metadata": {},
     "source": [
      "There are two labels, 0 = non-variable, 1 = variable star."
     ]
    },
    {
     "cell_type": "code",
     "collapsed": false,
     "input": [
      "print(y.shape)\n",
      "print(np.unique(y))"
     ],
     "language": "python",
     "metadata": {},
     "outputs": []
    },
    {
     "cell_type": "markdown",
     "metadata": {},
     "source": [
      "The data have a large imbalance: that is, there are many more background stars than there are RR Lyrae stars.\n",
      "This is important to keep in mind when performing a machine learning task on them:"