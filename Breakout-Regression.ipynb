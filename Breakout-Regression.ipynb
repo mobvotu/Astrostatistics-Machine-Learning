{
 "metadata": {
  "name": "",
  "signature": "sha256:d4626a838a71b8679af7e1334182e84960d06dc3870a8ce6953ce72b8e60a7bd"
 },
 "nbformat": 3,
 "nbformat_minor": 0,
 "worksheets": [
  {
   "cells": [
    {
     "cell_type": "markdown",
     "metadata": {},
     "source": [
      "# Exploring Supervised Machine Learning: Regression"
     ]
    },
    {
     "cell_type": "markdown",
     "metadata": {},
     "source": [
      "This notebook explores a regression task on astronomical data with Scikit-Learn.\n",
      "Much o