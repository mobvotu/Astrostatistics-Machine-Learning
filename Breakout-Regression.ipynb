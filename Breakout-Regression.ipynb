{
 "metadata": {
  "name": "",
  "signature": "sha256:d4626a838a71b8679af7e1334182e84960d06dc3870a8ce6953ce72b8e60a7bd"
 },
 "nbformat": 3,
 "nbformat_minor": 0,
 "worksheets": [
  {
   "cells": [
    {
     "cell_type": "markdown",
     "metadata": {},
     "source": [
      "# Exploring Supervised Machine Learning: Regression"
     ]
    },
    {
     "cell_type": "markdown",
     "metadata": {},
     "source": [
      "This notebook explores a regression task on astronomical data with Scikit-Learn.\n",
      "Much of the practice of machine learning relies on searching through documentation to learn (or remind yourself) of how things are done. Recall that in IPython, you can see the documentation of any function using the ``?`` character. For example:"
     ]
    },
    {
     "cell_type": "code",
     "collapsed": false,
     "input": [
      "import numpy as np\n",
      "np.linspace?"
     ],
     "language": "python",
     "metadata": {},
     "outputs": []
    },
    {
     "cell_type": "markdown",
     "metadata": {},
     "source": [
      "In addition, Google is your friend. Do you want to know how to import a Gaussian mixture model in scikit-learn? Search for \"scikit-learn Gaussian Mixture\" and go from there."
     ]
    },
    {
     "cell_type": "markdown",
     "metadata": {},
     "source": [
      "Below we'll explore a *galaxy photometry* dataset for regression, where the labels give the redshift (based on SDSS spectra for the training set).\n",
      "\n",
      "(see also the [Classification breakout](Breakout-Classification.ipynb))"
     ]
    },
    {
     "cell_type": "code",
     "collapsed": false,
     "input": [
      "%matplotlib inline\n",
      "import matplotlib as mpl\n",
      "import matplotlib.pyplot as plt\n",
      "import numpy as np\n",
      "\n",
      "# set matplotlib figure style\n",
      "mpl.style.use('ggplot') # only works in matplotlib 1.4+\n",
      "mpl.rc('figure', figsize=(8, 6))"
     ],
     "language": "python",
     "metadata": {},
     "outputs": []
    },
    {
     "cell_type": "markdown",
     "metadata": {},
     "source": [
      "## The Data: Photometric Redshifts\n",
      "\n",
      "The photometric redshift data comes from the spectroscopic galaxy catalog from SDSS DR7.\n",
      "There is a wealth of data in this dataset, but we will focus on photometry and redshift measurements:"
     ]
    },
    {
     "cell_type": "code",
     "collapsed": false,
     "input": [
      "from astroML.datasets import fetch_sdss_specgals\n",
      "data = fetch_sdss_specgals()"
     ],
     "language": "python",
     "metadata": {},
     "outputs": []
    },
    {
     "cell_type": "markdown",
     "metadata": {},
     "source": [
      "This is a much more involved dataset than used in the classification example; it's in the form of a NumPy structured array."
     ]
    },
    {
     "cell_type": "code",
     "collapsed": false,
     "input": [
      "data.dtype.names"
     ],
     "language": "python",
     "metadata": {},
     "outputs": []
    },
    {
     "cell_type": "markdown",
     "metadata": {},
     "source": [
      "We'll extract a matrix of (u,g,r,i,z) model magnitudes to tackle the \"classic\" photometric redshift problem:"
     ]
    },
    {
     "cell_type": "code",
     "collapsed": false,
     "input": [
      "# put magnitudes in a matrix\n",
      "mags = np.vstack([data['modelMag_%s' % f] for f in 'ugriz']).T\n",
      "z = data['z']"
     ],
     "language": "python",
     "metadata": {},
     "outputs": []
    },
    {
     "cell_type": "code",
     "collapsed": false,
     "input": [
      "print(mags.shape)\n",
      "print(z.shape)"
     ],
     "language": "python",
     "metadata": {},
     "outputs": []
    },
    {
     "cell_type": "markdown",
     "metadata": {},
     "source": [
      "More often, photometric redshifts are done on galaxy *colors*, because this minimizes a dependency on galaxy mass which can cause problems, and also helps with data calibration issues."
     ]
    },
    {
     "cell_type": "code",
     "collapsed": false,
     "input": [
      "colors = mags[:, 1:] - ma