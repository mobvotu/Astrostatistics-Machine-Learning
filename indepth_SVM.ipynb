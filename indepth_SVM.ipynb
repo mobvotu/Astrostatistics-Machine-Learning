
{
 "metadata": {
  "name": "",
  "signature": "sha256:c63557555e0a4e14924e8e1d9a88e798cc1143102cf0c93e9af353571250919a"
 },
 "nbformat": 3,
 "nbformat_minor": 0,
 "worksheets": [
  {
   "cells": [
    {
     "cell_type": "markdown",
     "metadata": {},
     "source": [
      "<small><i>This notebook was put together by [Jake Vanderplas](http://www.vanderplas.com) for PyCon 2015. Source and license info is on [GitHub](https://github.com/jakevdp/sklearn_pycon2015/).</i></small>"
     ]
    },
    {
     "cell_type": "markdown",
     "metadata": {},
     "source": [
      "# Supervised Learning In-Depth: Support Vector Machines"
     ]
    },
    {
     "cell_type": "markdown",
     "metadata": {},
     "source": [
      "Previously we introduced supervised machine learning.\n",
      "There are many supervised learning algorithms available; here we'll go into brief detail one of the most powerful and interesting methods: **Support Vector Machines (SVMs)**."
     ]
    },
    {
     "cell_type": "code",
     "collapsed": false,