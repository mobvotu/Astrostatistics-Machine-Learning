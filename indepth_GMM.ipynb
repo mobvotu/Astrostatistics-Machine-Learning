
{
 "metadata": {
  "name": "",
  "signature": "sha256:de851a6e13d685da444ca25d51086aeef554469384c3a456dacba39fa84228bd"
 },
 "nbformat": 3,
 "nbformat_minor": 0,
 "worksheets": [
  {
   "cells": [
    {
     "cell_type": "markdown",
     "metadata": {},
     "source": [
      "<small><i>This notebook was put together by [Jake Vanderplas](http://www.vanderplas.com) for PyCon 2015. Source and license info is on [GitHub](https://github.com/jakevdp/sklearn_pycon2015/).</i></small>"
     ]
    },
    {
     "cell_type": "markdown",
     "metadata": {},
     "source": [
      "# Density Estimation: Gaussian Mixture Models"
     ]
    },
    {
     "cell_type": "markdown",
     "metadata": {},
     "source": [
      "Here we'll explore **Gaussian Mixture Models**, which is an unsupervised clustering & density estimation technique.\n",
      "\n",
      "We'll start with our standard set of initial imports"
     ]
    },
    {
     "cell_type": "code",
     "collapsed": false,
     "input": [
      "%matplotlib inline\n",
      "import numpy as np\n",
      "import matplotlib.pyplot as plt\n",
      "from scipy import stats\n",
      "\n",
      "# use seaborn plotting defaults\n",
      "import seaborn as sns; sns.set()"
     ],
     "language": "python",
     "metadata": {},
     "outputs": []
    },
    {
     "cell_type": "markdown",
     "metadata": {},
     "source": [
      "## Introducing Gaussian Mixture Models\n",
      "\n",
      "We previously saw an example of K-Means, which is a clustering algorithm which is most often fit using an expectation-maximization approach.\n",
      "\n",
      "Here we'll consider an extension to this which is suitable for both **clustering** and **density estimation**.\n",
      "\n",
      "For example, imagine we have some one-dimensional data in a particular distribution:"
     ]
    },
    {
     "cell_type": "code",
     "collapsed": false,