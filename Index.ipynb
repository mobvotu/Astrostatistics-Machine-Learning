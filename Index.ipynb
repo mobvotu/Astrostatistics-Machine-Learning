{
 "metadata": {
  "name": "",
  "signature": "sha256:6c2f30df22b2f3029e2ad19c9cc41a10b60f57a893c72a0c92eea770ecf730ae"
 },
 "nbformat": 3,
 "nbformat_minor": 0,
 "worksheets": [
  {
   "cells": [
    {
     "cell_type": "markdown",
     "metadata": {},
     "source": [
      "# Machine Learning for Astronomy\n",
      "\n",
      "*Jake VanderPlas, June 2015*\n",
      "\n",
      "## 1. Introduction\n",
      "\n",
      "- [Basics of Machine Learning for Astronomy](Intro.ipynb)\n",
      "\n",
      "## 2. Breakouts\n",
      "\n",
      "You'll probably have time for only one: choose your