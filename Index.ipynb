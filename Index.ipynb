{
 "metadata": {
  "name": "",
  "signature": "sha256:6c2f30df22b2f3029e2ad19c9cc41a10b60f57a893c72a0c92eea770ecf730ae"
 },
 "nbformat": 3,
 "nbformat_minor": 0,
 "worksheets": [
  {
   "cells": [
    {
    