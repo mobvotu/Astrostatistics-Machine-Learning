
{
 "metadata": {
  "name": "",
  "signature": "sha256:14e64a27f0cad3e77e27ac02310d30b7706c35cacc4e16f84c177bf66d0871fe"
 },
 "nbformat": 3,
 "nbformat_minor": 0,
 "worksheets": [
  {
   "cells": [
    {
     "cell_type": "markdown",
     "metadata": {},
     "source": [
      "# Basics of Machine Learning for Astronomy\n",
      "\n",
      "*This notebook was put together by Jake VanderPlas for the [Local Group Astrostatistics Workshop](https://www.lsa.umich.edu/mira/workshopsconferences/localgroupastrostatistics), June 2015*"
     ]
    },
    {
     "cell_type": "markdown",
     "metadata": {},
     "source": [
      "## Outline:\n",
      "\n",
      "- What is Machine Learning?\n",
      "\n",
      "- Taxonomy of Machine Learning\n",
      "\n",
      "- Basic use of scikit-learn\n",
      "\n",
      "- Practical concerns in Astronomy"
     ]
    },
    {
     "cell_type": "markdown",
     "metadata": {},
     "source": [
      "### Starting Stuff:\n",
      "\n",
      "Before we start we'll do some preliminary imports & notebook setup:"
     ]
    },
    {
     "cell_type": "code",
     "collapsed": false,
     "input": [
      "# setup notebook for inline figures\n",
      "%matplotlib inline\n",
      "import matplotlib as mpl\n",
      "import matplotlib.pyplot as plt\n",
      "import numpy as np\n",
      "\n",
      "# set matplotlib figure style\n",
      "mpl.style.use('ggplot') # only works in matplotlib 1.4+\n",
      "mpl.rc('figure', figsize=(8, 6))"
     ],
     "language": "python",
     "metadata": {},
     "outputs": [],
     "prompt_number": 1
    },
    {
     "cell_type": "markdown",
     "metadata": {},
     "source": [
      "## What is Machine Learning?\n",
      "\n",
      "In this section we will begin to explore the basic principles of machine learning.\n",
      "Machine Learning is about building programs with **tunable parameters** (typically an\n",
      "collection of floating point values) that are adjusted automatically so as to improve\n",
      "the model's behavior by **adapting to previously seen data.**\n",
      "\n",
      "Machine Learning can be considered a subfield of **Artificial Intelligence** since those\n",
      "algorithms can be seen as building blocks to make computers learn to behave more\n",
      "intelligently by somehow **generalizing** rather that just storing and retrieving data items\n",
      "like a database system would do."
     ]
    },
    {
     "cell_type": "markdown",
     "metadata": {},
     "source": [
      "### Simple Example #1: Classification\n",
      "\n",
      "As a concrete example, take a look at this figure."
     ]
    },
    {
     "cell_type": "code",
     "collapsed": false,
     "input": [
      "# Import the example plot from the figures directory\n",
      "from fig_code import plot_sgd_separator\n",
      "plot_sgd_separator()"
     ],
     "language": "python",
     "metadata": {},
     "outputs": [
      {
       "metadata": {},
       "output_type": "display_data",
       "png": "iVBORw0KGgoAAAANSUhEUgAAAeEAAAFvCAYAAAB98HOmAAAABHNCSVQICAgIfAhkiAAAAAlwSFlz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\nmIiISAhLmIiISAhLmIiISAhLmIiISMgf9TAOMe2G2KoAAAAASUVORK5CYII=\n",
       "text": [
        "<matplotlib.figure.Figure at 0x1005ca160>"
       ]
      }
     ],
     "prompt_number": 2
    },
    {
     "cell_type": "markdown",
     "metadata": {},
     "source": [
      "We have data in two dimensions with two different labels (red and blue), and we construct a model which indicates the relationship between the data points and their discrete label \u2013 this is known as a **classification** task.\n",
      "\n",
      "This may seem incredibly trivial, but it is a simple version of a very important concept.\n",
      "We've used a machine learning algorithm to draw a line separating the datasets, which means that for any new datapoint we can **predict** its color (red or blue).\n",
      "This is the sense in which a Machine learning model makes **generalizations** that can be applied to new data.\n",
      "While this is fairly simple in two dimensions, these classification algorithms can become very powerful when acting on higher-dimensional or noise-ridden data where the relationships are harder for us to visualize."
     ]
    },
    {
     "cell_type": "markdown",
     "metadata": {},
     "source": [
      "If you'd like to see the source code used to generate this, you can either open the\n",
      "code in the `figures` directory, or you can load the code using the `%load` magic command:"
     ]
    },
    {
     "cell_type": "code",
     "collapsed": false,
     "input": [
      "#Uncomment the %load command to load the contents of the file\n",
      "%load fig_code/sgd_separator.py"
     ],
     "language": "python",
     "metadata": {},
     "outputs": [],
     "prompt_number": 3
    },
    {
     "cell_type": "code",
     "collapsed": false,
     "input": [
      "import numpy as np\n",
      "import matplotlib.pyplot as plt\n",
      "from sklearn.linear_model import SGDClassifier\n",
      "from sklearn.datasets.samples_generator import make_blobs\n",
      "\n",
      "def plot_sgd_separator():\n",
      "    # we create 50 separable points\n",
      "    X, Y = make_blobs(n_samples=50, centers=2,\n",
      "                      random_state=0, cluster_std=0.60)\n",
      "\n",
      "    # fit the model\n",
      "    clf = SGDClassifier(loss=\"hinge\", alpha=0.01,\n",
      "                        n_iter=200, fit_intercept=True)\n",
      "    clf.fit(X, Y)\n",
      "\n",
      "    # plot the line, the points, and the nearest vectors to the plane\n",
      "    xx = np.linspace(-1, 5, 10)\n",
      "    yy = np.linspace(-1, 5, 10)\n",
      "\n",
      "    X1, X2 = np.meshgrid(xx, yy)\n",
      "    Z = np.empty(X1.shape)\n",
      "    for (i, j), val in np.ndenumerate(X1):\n",
      "        x1 = val\n",
      "        x2 = X2[i, j]\n",
      "        p = clf.decision_function([x1, x2])\n",
      "        Z[i, j] = p[0]\n",
      "    levels = [-1.0, 0.0, 1.0]\n",
      "    linestyles = ['dashed', 'solid', 'dashed']\n",
      "    colors = 'k'\n",
      "\n",
      "    ax = plt.axes()\n",
      "    ax.contour(X1, X2, Z, levels, colors=colors, linestyles=linestyles)\n",
      "    ax.scatter(X[:, 0], X[:, 1], c=Y, s=60)\n",
      "\n",
      "    ax.axis('tight')\n",
      "\n",
      "\n",
      "if __name__ == '__main__':\n",
      "    plot_sgd_separator()\n",
      "    plt.show()\n"
     ],
     "language": "python",
     "metadata": {},
     "outputs": []
    },
    {
     "cell_type": "code",
     "collapsed": false,
     "input": [
      "import numpy as np\n",
      "import matplotlib.pyplot as plt\n",
      "from sklearn.linear_model import SGDClassifier\n",
      "from sklearn.datasets.samples_generator import make_blobs\n",
      "\n",
      "def plot_sgd_separator():\n",
      "    # we create 50 separable points\n",
      "    X, Y = make_blobs(n_samples=50, centers=2,\n",
      "                      random_state=0, cluster_std=0.60)\n",
      "\n",
      "    # fit the model\n",
      "    clf = SGDClassifier(loss=\"hinge\", alpha=0.01,\n",
      "                        n_iter=200, fit_intercept=True)\n",
      "    clf.fit(X, Y)\n",
      "\n",
      "    # plot the line, the points, and the nearest vectors to the plane\n",
      "    xx = np.linspace(-1, 5, 10)\n",
      "    yy = np.linspace(-1, 5, 10)\n",
      "\n",
      "    X1, X2 = np.meshgrid(xx, yy)\n",
      "    Z = np.empty(X1.shape)\n",
      "    for (i, j), val in np.ndenumerate(X1):\n",
      "        x1 = val\n",
      "        x2 = X2[i, j]\n",
      "        p = clf.decision_function([x1, x2])\n",
      "        Z[i, j] = p[0]\n",
      "    levels = [-1.0, 0.0, 1.0]\n",
      "    linestyles = ['dashed', 'solid', 'dashed']\n",
      "    colors = 'k'\n",
      "\n",
      "    ax = plt.axes()\n",
      "    ax.contour(X1, X2, Z, levels, colors=colors, linestyles=linestyles)\n",
      "    ax.scatter(X[:, 0], X[:, 1], c=Y, s=60)\n",
      "\n",
      "    ax.axis('tight')\n",
      "\n",
      "\n",
      "if __name__ == '__main__':\n",
      "    plot_sgd_separator()\n",
      "    plt.show()\n"