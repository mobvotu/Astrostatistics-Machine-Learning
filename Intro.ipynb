
{
 "metadata": {
  "name": "",
  "signature": "sha256:14e64a27f0cad3e77e27ac02310d30b7706c35cacc4e16f84c177bf66d0871fe"
 },
 "nbformat": 3,
 "nbformat_minor": 0,
 "worksheets": [
  {
   "cells": [
    {
     "cell_type": "markdown",
     "metadata": {},
     "source": [
      "# Basics of Machine Learning for Astronomy\n",
      "\n",
      "*This notebook was put together by Jake VanderPlas for the [Local Group Astrostatistics Workshop](https://www.lsa.umich.edu/mira/workshopsconferences/localgroupastrostatistics), June 2015*"
     ]
    },
    {
     "cell_type": "markdown",
     "metadata": {},
     "source": [
      "## Outline:\n",
      "\n",
      "- What is Machine Learning?\n",
      "\n",
      "- Taxonomy of Machine Learning\n",
      "\n",
      "- Basic use of scikit-learn\n",
      "\n",
      "- Practical concerns in Astronomy"
     ]
    },
    {
     "cell_type": "markdown",
     "metadata": {},
     "source": [
      "### Starting Stuff:\n",
      "\n",
      "Before we start we'll do some preliminary imports & notebook setup:"
     ]
    },
    {
     "cell_type": "code",
     "collapsed": false,
     "input": [
      "# setup notebook for inline figures\n",
      "%matplotlib inline\n",
      "import matplotlib as mpl\n",
      "import matplotlib.pyplot as plt\n",
      "import numpy as np\n",
      "\n",
      "# set matplotlib figure style\n",
      "mpl.style.use('ggplot') # only works in matplotlib 1.4+\n",
      "mpl.rc('figure', figsize=(8, 6))"
     ],
     "language": "python",
     "metadata": {},
     "outputs": [],
     "prompt_number": 1
    },
    {
     "cell_type": "markdown",
     "metadata": {},
     "source": [
      "## What is Machine Learning?\n",
      "\n",
      "In this section we will begin to explore the basic principles of machine learning.\n",
      "Machine Learning is about building programs with **tunable parameters** (typically an\n",
      "collection of floating point values) that are adjusted automatically so as to improve\n",
      "the model's behavior by **adapting to previously seen data.**\n",
      "\n",
      "Machine Learning can be considered a subfield of **Artificial Intelligence** since those\n",
      "algorithms can be seen as building blocks to make computers learn to behave more\n",
      "intelligently by somehow **generalizing** rather that just storing and retrieving data items\n",
      "like a database system would do."
     ]
    },
    {
     "cell_type": "markdown",
     "metadata": {},
     "source": [
      "### Simple Example #1: Classification\n",
      "\n",
      "As a concrete example, take a look at this figure."
     ]
    },
    {
     "cell_type": "code",
     "collapsed": false,
     "input": [
      "# Import the example plot from the figures directory\n",
      "from fig_code import plot_sgd_separator\n",